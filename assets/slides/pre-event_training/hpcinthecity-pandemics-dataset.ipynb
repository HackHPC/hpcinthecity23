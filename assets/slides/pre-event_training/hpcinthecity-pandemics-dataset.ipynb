{
 "cells": [
  {
   "cell_type": "markdown",
   "metadata": {},
   "source": [
    "<img src=\"https://hackhpc.github.io/hpcinthecity23/email_images/hpcinthecity-pandemics-600px.png\">\n",
    "\n",
    "## TACC Mobility and Census Datasets\n",
    "This JupyterNotebook provides basic examples on how to access the UT Center for Pandemic Decision Science Mobilty and Census Safegraph proprietary datasets. "
   ]
  },
  {
   "cell_type": "code",
   "execution_count": 1,
   "metadata": {},
   "outputs": [
    {
     "name": "stdout",
     "output_type": "stream",
     "text": [
      "/home1/04859/jhpowell\r\n"
     ]
    }
   ],
   "source": [
    "# The \"!\" tells JuyterNotebooks to run a comman as if on the command line while \"pwd\" (print working directory) is a linux command\n",
    "# that prints the filsystem (hard drive) path (location) you are currently in  \n",
    "!pwd"
   ]
  },
  {
   "cell_type": "code",
   "execution_count": 2,
   "metadata": {},
   "outputs": [
    {
     "name": "stdout",
     "output_type": "stream",
     "text": [
      "total 20\r\n",
      "drwxrwsrwx  5 meyers   G-25537 4096 Oct 31 20:03 .\r\n",
      "drwxrwsrwx 13 meyers   G-25537 4096 Aug  8 00:21 ..\r\n",
      "drwxr-S--- 10 kelly    G-25537 4096 Nov  1 08:05 FULL_MOBILITY\r\n",
      "drwx--S---  8 diestra7 G-25537 4096 Jun 21 10:46 JLTests\r\n",
      "drwxr-S---  6 kelly    G-25537 4096 Oct 31 20:04 OPEN_CENSUS_DATA\r\n"
     ]
    }
   ],
   "source": [
    "# The \"ls\" (list) command display the contents of a directory. The flag/options that begin with \"-\"; \n",
    "# \"l\" (long) says display additional\n",
    "# information about the items and \"a\" (all) say show all the files\n",
    "!ls -la /work2/projects/utprojections/safegraph_data"
   ]
  },
  {
   "cell_type": "code",
   "execution_count": 3,
   "metadata": {},
   "outputs": [],
   "source": [
    "# Sets the variable data_directory to the location of the wanted dataset\n",
    "data_directory = \"/work2/projects/utprojections/safegraph_data\""
   ]
  },
  {
   "cell_type": "code",
   "execution_count": 4,
   "metadata": {},
   "outputs": [],
   "source": [
    "# Python library that allows use of operating system dependent functionality\n",
    "import os"
   ]
  },
  {
   "cell_type": "code",
   "execution_count": 5,
   "metadata": {},
   "outputs": [
    {
     "name": "stdout",
     "output_type": "stream",
     "text": [
      "['OPEN_CENSUS_DATA', 'JLTests', 'FULL_MOBILITY']\n"
     ]
    }
   ],
   "source": [
    "# get the contents of the directory defined in the data_directory variable and print them to the screen\n",
    "print(os.listdir(data_directory))"
   ]
  },
  {
   "cell_type": "code",
   "execution_count": null,
   "metadata": {},
   "outputs": [],
   "source": []
  }
 ],
 "metadata": {
  "kernelspec": {
   "display_name": "Python 3",
   "language": "python",
   "name": "python3"
  },
  "language_info": {
   "codemirror_mode": {
    "name": "ipython",
    "version": 3
   },
   "file_extension": ".py",
   "mimetype": "text/x-python",
   "name": "python",
   "nbconvert_exporter": "python",
   "pygments_lexer": "ipython3",
   "version": "3.7.0"
  }
 },
 "nbformat": 4,
 "nbformat_minor": 2
}
